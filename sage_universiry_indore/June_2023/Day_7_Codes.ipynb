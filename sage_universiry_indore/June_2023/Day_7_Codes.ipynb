{
  "cells": [
    {
      "cell_type": "markdown",
      "metadata": {
        "id": "zuI17IF6P065"
      },
      "source": [
        "# AWS IoT Core - Over MQTT\n",
        " - Applicable only for ESP32\n",
        " - Resource link: https://aws.amazon.com/blogs/iot/using-micropython-to-get-started-with-aws-iot-core/"
      ]
    },
    {
      "cell_type": "markdown",
      "metadata": {
        "id": "EvJFsNtEP2pO"
      },
      "source": [
        "## Policy document"
      ]
    },
    {
      "cell_type": "code",
      "execution_count": null,
      "metadata": {
        "id": "mOL3CD_NP4R5"
      },
      "outputs": [],
      "source": [
        "{\n",
        "  \"Version\": \"2012-10-17\",\n",
        "  \"Statement\": [\n",
        "    {\n",
        "      \"Effect\": \"Allow\",\n",
        "      \"Action\": \"iot:Connect\",\n",
        "      \"Resource\": \"arn:aws:iot:ap-south-1:291302058818:client/espClient1\"\n",
        "    },\n",
        "    {\n",
        "      \"Effect\": \"Allow\",\n",
        "      \"Action\": \"iot:Publish\",\n",
        "      \"Resource\": \"arn:aws:iot:ap-south-1:291302058818:topic/$aws/things/espThing1/shadow/update\"\n",
        "    },\n",
        "    {\n",
        "      \"Effect\": \"Allow\",\n",
        "      \"Action\": \"iot:Subscribe\",\n",
        "      \"Resource\": \"arn:aws:iot:ap-south-1:291302058818:topicfilter/$aws/things/espThing1/shadow/update/delta\"\n",
        "    },\n",
        "    {\n",
        "      \"Effect\": \"Allow\",\n",
        "      \"Action\": \"iot:Receive\",\n",
        "      \"Resource\": \"arn:aws:iot:ap-south-1:291302058818:topic/$aws/things/espThing1/shadow/update/delta\"\n",
        "    }\n",
        "  ]\n",
        "}"
      ]
    },
    {
      "cell_type": "markdown",
      "metadata": {
        "id": "nBngEoQpEVqk"
      },
      "source": [
        "## Code\n",
        "reference link: https://github.com/aws-samples/aws-iot-core-getting-started-micropython/blob/main/main.py"
      ]
    },
    {
      "cell_type": "code",
      "execution_count": null,
      "metadata": {
        "id": "sx4-4I8LEVG1"
      },
      "outputs": [],
      "source": [
        "import os\n",
        "import time\n",
        "import ujson\n",
        "import machine\n",
        "import network\n",
        "from umqtt.simple import MQTTClient\n",
        "\n",
        "#Enter your wifi SSID and password below.\n",
        "wifi_ssid = \"SSID\"\n",
        "wifi_password = \"Password\"\n",
        "\n",
        "#Enter your AWS IoT endpoint. You can find it in the Settings page of\n",
        "#your AWS IoT Core console.\n",
        "#https://docs.aws.amazon.com/iot/latest/developerguide/iot-connect-devices.html\n",
        "aws_endpoint = b'a3b4cc29u6m97v-ats.iot.ap-south-1.amazonaws.com'\n",
        "\n",
        "#If you followed the blog, these names are already set.\n",
        "thing_name = \"espThing1\"\n",
        "client_id = \"espClient1\"\n",
        "private_key = \"private.pem.key\"\n",
        "private_cert = \"cert.pem.crt\"\n",
        "\n",
        "#Read the files used to authenticate to AWS IoT Core\n",
        "with open(private_key, 'r') as f:\n",
        "    key = f.read()\n",
        "with open(private_cert, 'r') as f:\n",
        "    cert = f.read()\n",
        "\n",
        "#These are the topics we will subscribe to. We will publish updates to /update.\n",
        "#We will subscribe to the /update/delta topic to look for changes in the device shadow.\n",
        "topic_pub = \"$aws/things/\" + thing_name + \"/shadow/update\"\n",
        "topic_sub = \"$aws/things/\" + thing_name + \"/shadow/update/delta\"\n",
        "ssl_params = {\"key\":key, \"cert\":cert, \"server_side\":False}\n",
        "\n",
        "#Define pins for LED and light sensor. In this example we are using a FeatherS2.\n",
        "#The sensor and LED are built into the board, and no external connections are required.\n",
        "light_sensor = machine.ADC(machine.Pin(4))\n",
        "#light_sensor.atten(machine.ADC.ATTN_11DB)\n",
        "led = machine.Pin(2, machine.Pin.OUT)\n",
        "info = os.uname()\n",
        "\n",
        "#Connect to the wireless network\n",
        "wlan = network.WLAN(network.STA_IF)\n",
        "wlan.active(True)\n",
        "if not wlan.isconnected():\n",
        "    print('Connecting to network...')\n",
        "    wlan.connect(wifi_ssid, wifi_password)\n",
        "    while not wlan.isconnected():\n",
        "        pass\n",
        "\n",
        "    print('Connection successful')\n",
        "    print('Network config:', wlan.ifconfig())\n",
        "\n",
        "def mqtt_connect(client=client_id, endpoint=aws_endpoint, sslp=ssl_params):\n",
        "    mqtt = MQTTClient(client_id=client, server=endpoint, port=8883, keepalive=4000, ssl=True, ssl_params=sslp)\n",
        "    print(\"Connecting to AWS IoT...\")\n",
        "    mqtt.connect()\n",
        "    print(\"Done\")\n",
        "    return mqtt\n",
        "\n",
        "def mqtt_publish(client, topic=topic_pub, message=''):\n",
        "    print(\"Publishing message...\")\n",
        "    client.publish(topic, message)\n",
        "    print(message)\n",
        "\n",
        "def mqtt_subscribe(topic, msg):\n",
        "    print(\"Message received...\")\n",
        "    message = ujson.loads(msg)\n",
        "    print(topic, message)\n",
        "    if message['state']['led']:\n",
        "        led_state(message)\n",
        "    print(\"Done\")\n",
        "\n",
        "def led_state(message):\n",
        "    led.value(message['state']['led']['onboard'])\n",
        "\n",
        "#We use our helper function to connect to AWS IoT Core.\n",
        "#The callback function mqtt_subscribe is what will be called if we\n",
        "#get a new message on topic_sub.\n",
        "\n",
        "light =\n",
        "try:\n",
        "    mqtt = mqtt_connect()\n",
        "    mqtt.set_callback(mqtt_subscribe)\n",
        "    mqtt.subscribe(topic_sub)\n",
        "except:\n",
        "    print(\"Unable to connect to MQTT.\")\n",
        "\n",
        "\n",
        "while True:\n",
        "#Check for messages.\n",
        "    try:\n",
        "        mqtt.check_msg()\n",
        "    except:\n",
        "        print(\"Unable to check for messages.\")\n",
        "\n",
        "    mesg = ujson.dumps({\n",
        "        \"state\":{\n",
        "            \"reported\": {\n",
        "                \"device\": {\n",
        "                    \"client\": client_id,\n",
        "                    \"uptime\": time.ticks_ms(),\n",
        "                    \"hardware\": info[0],\n",
        "                    \"firmware\": info[2]\n",
        "                },\n",
        "                \"sensors\": {\n",
        "                    \"light\": light,\n",
        "                    \"sound\":\n",
        "                },\n",
        "                \"led\": {\n",
        "                    \"onboard\": led.value()\n",
        "                }\n",
        "            }\n",
        "        }\n",
        "    })\n",
        "\n",
        "#Using the message above, the device shadow is updated.\n",
        "    try:\n",
        "        mqtt_publish(client=mqtt, message=mesg)\n",
        "    except:\n",
        "        print(\"Unable to publish message.\")\n",
        "\n",
        "#Wait for 10 seconds before checking for messages and publishing a new update.\n",
        "    print(\"Sleep for 10 seconds\")\n",
        "    time.sleep(10)"
      ]
    },
    {
      "cell_type": "markdown",
      "metadata": {
        "id": "3xrtkwd3BcUp"
      },
      "source": [
        "# Thingspeak - using REST API"
      ]
    },
    {
      "cell_type": "code",
      "execution_count": null,
      "metadata": {
        "id": "ZJTeiFozBfej"
      },
      "outputs": [],
      "source": [
        "import network\n",
        "import time\n",
        "\n",
        "print(\"Connecting to WiFi\", end=\"\")\n",
        "sta_if = network.WLAN(network.STA_IF)\n",
        "sta_if.active(True)\n",
        "sta_if.connect('Wokwi-GUEST', '')\n",
        "while not sta_if.isconnected():\n",
        "  print(\".\", end=\"\")\n",
        "  time.sleep(0.1)\n",
        "print(\" Connected!\")\n",
        "print('network config:', sta_if.ifconfig())\n",
        "\n",
        "import urequests as requests\n",
        "\n",
        "import json\n",
        "import random\n",
        "\n",
        "HTTP_HEADERS = {'Content-Type': 'application/json'}\n",
        "THINGSPEAK_WRITE_API_KEY = \"DDI8U1PVBN94GZO1\"\n",
        "sensor = random.randint(10, 50)\n",
        "\n",
        "data = {'field1':sensor}\n",
        "\n",
        "while True:\n",
        "  request = requests.post(\n",
        "            'http://api.thingspeak.com/update?api_key=' +\n",
        "            THINGSPEAK_WRITE_API_KEY,\n",
        "            json = data,\n",
        "            headers = HTTP_HEADERS )\n",
        "  request.close()\n",
        "  time.sleep(15)"
      ]
    },
    {
      "cell_type": "code",
      "execution_count": null,
      "metadata": {
        "id": "OW8F5buABfkP"
      },
      "outputs": [],
      "source": []
    },
    {
      "cell_type": "markdown",
      "metadata": {
        "id": "_1XsiXfXZWyl"
      },
      "source": [
        "# Receive data on computer using MQTT"
      ]
    },
    {
      "cell_type": "code",
      "execution_count": null,
      "metadata": {
        "colab": {
          "base_uri": "https://localhost:8080/"
        },
        "id": "NdrplOxrZlpT",
        "outputId": "66b361e3-47e1-40f0-dd21-6f9a499c4cac"
      },
      "outputs": [
        {
          "name": "stdout",
          "output_type": "stream",
          "text": [
            "Looking in indexes: https://pypi.org/simple, https://us-python.pkg.dev/colab-wheels/public/simple/\n",
            "Collecting paho-mqtt\n",
            "  Downloading paho-mqtt-1.6.1.tar.gz (99 kB)\n",
            "\u001b[?25l     \u001b[90m━━━━━━━━━━━━━━━━━━━━━━━━━━━━━━━━━━━━━━━━\u001b[0m \u001b[32m0.0/99.4 kB\u001b[0m \u001b[31m?\u001b[0m eta \u001b[36m-:--:--\u001b[0m\r\u001b[2K     \u001b[90m━━━━━━━━━━━━━━━━━━━━━━━━━━━━━━━━━━━━━━━━\u001b[0m \u001b[32m99.4/99.4 kB\u001b[0m \u001b[31m4.1 MB/s\u001b[0m eta \u001b[36m0:00:00\u001b[0m\n",
            "\u001b[?25h  Preparing metadata (setup.py) ... \u001b[?25l\u001b[?25hdone\n",
            "Building wheels for collected packages: paho-mqtt\n",
            "  Building wheel for paho-mqtt (setup.py) ... \u001b[?25l\u001b[?25hdone\n",
            "  Created wheel for paho-mqtt: filename=paho_mqtt-1.6.1-py3-none-any.whl size=62118 sha256=2b1110a2ffb038f79ce7632eb54a7ce025d810d8b34afebbf5703917ae1e9d3d\n",
            "  Stored in directory: /root/.cache/pip/wheels/8b/bb/0c/79444d1dee20324d442856979b5b519b48828b0bd3d05df84a\n",
            "Successfully built paho-mqtt\n",
            "Installing collected packages: paho-mqtt\n",
            "Successfully installed paho-mqtt-1.6.1\n"
          ]
        }
      ],
      "source": [
        "! pip install paho-mqtt"
      ]
    },
    {
      "cell_type": "code",
      "execution_count": null,
      "metadata": {
        "colab": {
          "background_save": true
        },
        "id": "V2pL_A3MZaF8"
      },
      "outputs": [],
      "source": [
        "\n",
        "import paho.mqtt.client as mqtt\n",
        "\n",
        "# Replace with your MQTT broker details\n",
        "mqtt_broker = \"broker.mqttdashboard.com\"\n",
        "mqtt_port = 1883\n",
        "mqtt_topic = \"atul_test_1234\"\n",
        "\n",
        "# Callback function to handle incoming MQTT messages\n",
        "def on_message(client, userdata, message):\n",
        "    # Get the data from the MQTT message payload\n",
        "    data = message.payload.decode()\n",
        "    print(data)\n",
        "\n",
        "\n",
        "\n",
        "# Create an MQTT client and connect to the broker\n",
        "client = mqtt.Client()\n",
        "client.connect(mqtt_broker, mqtt_port)\n",
        "\n",
        "# Subscribe to the MQTT topic\n",
        "client.subscribe(mqtt_topic)\n",
        "\n",
        "# Set the callback function for incoming MQTT messages\n",
        "client.on_message = on_message\n",
        "\n",
        "# Start the MQTT loop\n",
        "client.loop_forever()"
      ]
    }
  ],
  "metadata": {
    "colab": {
      "provenance": []
    },
    "kernelspec": {
      "display_name": "Python 3",
      "name": "python3"
    },
    "language_info": {
      "name": "python"
    }
  },
  "nbformat": 4,
  "nbformat_minor": 0
}