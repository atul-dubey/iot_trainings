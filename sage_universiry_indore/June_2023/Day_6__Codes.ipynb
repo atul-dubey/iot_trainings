{
  "nbformat": 4,
  "nbformat_minor": 0,
  "metadata": {
    "colab": {
      "provenance": []
    },
    "kernelspec": {
      "name": "python3",
      "display_name": "Python 3"
    },
    "language_info": {
      "name": "python"
    }
  },
  "cells": [
    {
      "cell_type": "markdown",
      "source": [
        "# WiFi Connection"
      ],
      "metadata": {
        "id": "_Jrjy-Ew3fc9"
      }
    },
    {
      "cell_type": "code",
      "execution_count": null,
      "metadata": {
        "id": "OhL6QLO03bwl"
      },
      "outputs": [],
      "source": [
        "import network\n",
        "import time\n",
        "\n",
        "print(\"Connecting to WiFi\", end=\"\")\n",
        "sta_if = network.WLAN(network.STA_IF)\n",
        "sta_if.active(True)\n",
        "sta_if.connect('Wokwi-GUEST', '')\n",
        "while not sta_if.isconnected():\n",
        "  print(\".\", end=\"\")\n",
        "  time.sleep(0.1)\n",
        "print(\" Connected!\")\n",
        "print('network config:', sta_if.ifconfig())"
      ]
    },
    {
      "cell_type": "markdown",
      "source": [
        "# HTTP Client"
      ],
      "metadata": {
        "id": "9iKTU9LF3kAt"
      }
    },
    {
      "cell_type": "code",
      "source": [
        "import urequests as requests\n",
        "\n",
        "import json\n",
        "\n",
        "def get_prediction(data = {'some-header': '20'}):\n",
        "  url = 'https://summerschool.free.beeceptor.com'\n",
        "  r = requests.post(url, data=json.dumps(data))\n",
        "  print(r)\n",
        "  response = r.text\n",
        "  print(response)\n",
        "  return response\n",
        "\n",
        "get_prediction()"
      ],
      "metadata": {
        "id": "VFbWPLxl3mJV"
      },
      "execution_count": null,
      "outputs": []
    },
    {
      "cell_type": "markdown",
      "source": [
        "# HTTP server"
      ],
      "metadata": {
        "id": "AC2iqAYnH13R"
      }
    },
    {
      "cell_type": "code",
      "source": [
        "import socket\n",
        "from machine import Pin\n",
        "\n",
        "led = Pin(2, Pin.OUT)\n",
        "\n",
        "def web_page():\n",
        "  if led.value() == 1:\n",
        "    gpio_state=\"ON\"\n",
        "  else:\n",
        "    gpio_state=\"OFF\"\n",
        "\n",
        "  html = \"\"\"<html><head> <title>ESP Web Server</title> <meta name=\"viewport\" content=\"width=device-width, initial-scale=1\">\n",
        "  <link rel=\"icon\" href=\"data:,\"> <style>html{font-family: Helvetica; display:inline-block; margin: 0px auto; text-align: center;}\n",
        "  h1{color: #0F3376; padding: 2vh;}p{font-size: 1.5rem;}.button{display: inline-block; background-color: #e7bd3b; border: none;\n",
        "  border-radius: 4px; color: white; padding: 16px 40px; text-decoration: none; font-size: 30px; margin: 2px; cursor: pointer;}\n",
        "  .button2{background-color: #4286f4;}</style></head><body> <h1>ESP Web Server</h1>\n",
        "  <p>GPIO state: <strong>\"\"\" + gpio_state + \"\"\"</strong></p><p><a href=\"/?led=on\"><button class=\"button\">ON</button></a></p>\n",
        "  <p><a href=\"/?led=off\"><button class=\"button button2\">OFF</button></a></p></body></html>\"\"\"\n",
        "  return html\n",
        "\n",
        "s = socket.socket(socket.AF_INET, socket.SOCK_STREAM)\n",
        "s.bind(('0.0.0.0', 80))\n",
        "s.listen(5)\n",
        "\n",
        "while True:\n",
        "  conn, addr = s.accept()\n",
        "  print('Got a connection from %s' % str(addr))\n",
        "  request = conn.recv(1024)\n",
        "  request = str(request)\n",
        "  print('Content = %s' % request)\n",
        "  led_on = request.find('/?led=on')\n",
        "  led_off = request.find('/?led=off')\n",
        "  if led_on == 6:\n",
        "    print('LED ON')\n",
        "    led.value(1)\n",
        "  if led_off == 6:\n",
        "    print('LED OFF')\n",
        "    led.value(0)\n",
        "  response = web_page()\n",
        "  conn.send('HTTP/1.1 200 OK\\n')\n",
        "  conn.send('Content-Type: text/html\\n')\n",
        "  conn.send('Connection: close\\n\\n')\n",
        "  conn.sendall(response)\n",
        "  conn.close()"
      ],
      "metadata": {
        "id": "yVV7mk_IH1Nz"
      },
      "execution_count": null,
      "outputs": []
    },
    {
      "cell_type": "markdown",
      "source": [
        "# MQTT - Publish data\n",
        "- Online MQTT client: https://www.hivemq.com/demos/websocket-client/"
      ],
      "metadata": {
        "id": "PC84sKmXPQY6"
      }
    },
    {
      "cell_type": "code",
      "source": [
        "# Connect to a broker\n",
        "# main.py\n",
        "from umqtt.simple import MQTTClient\n",
        "\n",
        "CLIENT_NAME = 'abcd'\n",
        "BROKER_ADDR = 'broker.mqttdashboard.com'\n",
        "mqttc = MQTTClient(CLIENT_NAME, BROKER_ADDR, keepalive=60)\n",
        "mqttc.connect()\n",
        "\n",
        "# Publish data\n",
        "TOPIC = 'atul_test_1234'\n",
        "MSG = 'Hi from ESP32'\n",
        "while True:\n",
        "\tmqttc.publish( TOPIC, MSG.encode())\n",
        "\ttime.sleep(0.5)"
      ],
      "metadata": {
        "id": "YroLqyEmPTFQ"
      },
      "execution_count": null,
      "outputs": []
    },
    {
      "cell_type": "markdown",
      "source": [
        "# MQTT - Subscribe data"
      ],
      "metadata": {
        "id": "viKe455lSLwe"
      }
    },
    {
      "cell_type": "code",
      "source": [
        "from umqtt.simple import MQTTClient\n",
        "\n",
        "# Define callback function for handling received MQTT messages\n",
        "def sub_cb(topic, msg):\n",
        "    print((topic, msg))\n",
        "\n",
        "# Define MQTT broker parameters\n",
        "mqtt_broker = 'broker.mqttdashboard.com'\n",
        "mqtt_topic = 'mqtt_topic_to_subscribe'\n",
        "\n",
        "# Create an MQTT client instance\n",
        "client = MQTTClient(client_id='esp32', server=mqtt_broker)\n",
        "\n",
        "# Connect to the MQTT broker\n",
        "client.connect()\n",
        "\n",
        "# Subscribe to the MQTT topic\n",
        "client.set_callback(sub_cb)\n",
        "client.subscribe(mqtt_topic)\n",
        "\n",
        "# Main loop\n",
        "while True:\n",
        "    try:\n",
        "        # Wait for MQTT messages\n",
        "        client.check_msg()\n",
        "    except OSError as e:\n",
        "        print(\"Failed to read MQTT message: %s\" % e)"
      ],
      "metadata": {
        "id": "ach8_x-zSPt7"
      },
      "execution_count": null,
      "outputs": []
    },
    {
      "cell_type": "markdown",
      "source": [
        "# Blink LED"
      ],
      "metadata": {
        "id": "x2XEs2WaQ7rI"
      }
    },
    {
      "cell_type": "code",
      "source": [
        "import network\n",
        "import time\n",
        "from machine import Pin\n",
        "\n",
        "print(\"Connecting to WiFi\", end=\"\")\n",
        "sta_if = network.WLAN(network.STA_IF)\n",
        "sta_if.active(True)\n",
        "sta_if.connect('Wokwi-GUEST', '')\n",
        "while not sta_if.isconnected():\n",
        "  print(\".\", end=\"\")\n",
        "  time.sleep(0.1)\n",
        "print(\" Connected!\")\n",
        "print('network config:', sta_if.ifconfig())\n",
        "\n",
        "from umqtt.simple import MQTTClient\n",
        "\n",
        "led = Pin(2, Pin.OUT)\n",
        "# Define callback function for handling received MQTT messages\n",
        "def sub_cb(topic, msg):\n",
        "  print((topic, msg))\n",
        "  if int(msg.decode()) == 1:\n",
        "    led.value(1)\n",
        "  else:\n",
        "    led.value(0)\n",
        "\n",
        "\n",
        "# Define MQTT broker parameters\n",
        "mqtt_broker = 'broker.mqttdashboard.com'\n",
        "mqtt_topic = '123atul432'\n",
        "\n",
        "# Create an MQTT client instance\n",
        "client = MQTTClient(client_id='esp32', server=mqtt_broker)\n",
        "\n",
        "# Connect to the MQTT broker\n",
        "client.connect()\n",
        "\n",
        "# Subscribe to the MQTT topic\n",
        "client.set_callback(sub_cb)\n",
        "client.subscribe(mqtt_topic)\n",
        "\n",
        "# Main loop\n",
        "while True:\n",
        "    try:\n",
        "        # Wait for MQTT messages\n",
        "        client.check_msg()\n",
        "    except:\n",
        "        pass"
      ],
      "metadata": {
        "id": "zimhCiH7Q65b"
      },
      "execution_count": null,
      "outputs": []
    }
  ]
}